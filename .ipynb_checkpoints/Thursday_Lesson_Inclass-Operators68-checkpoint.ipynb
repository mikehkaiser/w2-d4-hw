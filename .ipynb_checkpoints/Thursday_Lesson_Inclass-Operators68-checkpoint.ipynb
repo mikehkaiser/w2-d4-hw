{
 "cells": [
  {
   "cell_type": "markdown",
   "metadata": {},
   "source": [
    "# Object-Oriented-Programming (OOP)"
   ]
  },
  {
   "cell_type": "markdown",
   "metadata": {},
   "source": [
    "## Tasks Today:\n",
    "\n",
    "   \n",
    "\n",
    "1) <b>Creating a Class (Initializing/Declaring)</b> <br>\n",
    "2) <b>Using a Class (Instantiating)</b> <br>\n",
    " &nbsp;&nbsp;&nbsp;&nbsp; a) Creating One Instance <br>\n",
    " &nbsp;&nbsp;&nbsp;&nbsp; b) Creating Multiple Instances <br>\n",
    " &nbsp;&nbsp;&nbsp;&nbsp; c) In-Class Exercise #1 - Create a Class 'Car' and instantiate three different makes of cars <br>\n",
    "3) <b>The \\__init\\__() Method</b> <br>\n",
    " &nbsp;&nbsp;&nbsp;&nbsp; a) The 'self' Attribute <br>\n",
    "4) <b>Class Attributes</b> <br>\n",
    " &nbsp;&nbsp;&nbsp;&nbsp; a) Initializing Attributes <br>\n",
    " &nbsp;&nbsp;&nbsp;&nbsp; b) Setting an Attribute Outside of the \\__init\\__() Method <br>\n",
    " &nbsp;&nbsp;&nbsp;&nbsp; c) Setting Defaults for Attributes <br>\n",
    " &nbsp;&nbsp;&nbsp;&nbsp; d) Accessing Class Attributes <br>\n",
    " &nbsp;&nbsp;&nbsp;&nbsp; e) Changing Class Attributes <br>\n",
    " &nbsp;&nbsp;&nbsp;&nbsp; f) In-Class Exercise #2 - Add a color and wheels attribute to your 'Car' class <br>\n",
    "5) <b>Class Methods</b> <br>\n",
    " &nbsp;&nbsp;&nbsp;&nbsp; a) Creating <br>\n",
    " &nbsp;&nbsp;&nbsp;&nbsp; b) Calling <br>\n",
    " &nbsp;&nbsp;&nbsp;&nbsp; c) Modifying an Attribute's Value Through a Method <br>\n",
    " &nbsp;&nbsp;&nbsp;&nbsp; d) Incrementing an Attribute's Value Through a Method <br>\n",
    " &nbsp;&nbsp;&nbsp;&nbsp; e) In-Class Exercise #3 - Add a method that prints the cars color and wheel number, then call them <br>\n",
    "6) <b>Inheritance</b> <br>\n",
    " &nbsp;&nbsp;&nbsp;&nbsp; a) Syntax for Inheriting from a Parent Class <br>\n",
    " &nbsp;&nbsp;&nbsp;&nbsp; b) The \\__init\\__() Method for a Child Class (super()) <br>\n",
    " &nbsp;&nbsp;&nbsp;&nbsp; c) Defining Attributes and Methods for the Child Class <br>\n",
    " &nbsp;&nbsp;&nbsp;&nbsp; d) Method Overriding <br>\n",
    " &nbsp;&nbsp;&nbsp;&nbsp; e) In-Class Exercise #4 - Create a class 'Ford' that inherits from 'Car' class and initialize it as a Blue Ford Explorer with 4 wheels using the super() method <br>\n",
    "7) <b>Classes as Attributes</b> <br>\n",
    "8) <b>Exercises</b> <br>\n",
    " &nbsp;&nbsp;&nbsp;&nbsp; a) Exercise #1 - Turn the shopping cart program from yesterday into an object-oriented program <br>"
   ]
  },
  {
   "cell_type": "markdown",
   "metadata": {},
   "source": [
    "## In-class shopping cart example"
   ]
  },
  {
   "cell_type": "code",
   "execution_count": null,
   "metadata": {},
   "outputs": [],
   "source": [
    "from IPython.display import clear_output\n",
    "\n",
    "cart = []\n",
    "\n",
    "## Adding items to cart\n",
    "\n",
    "def addItem(item):\n",
    "    clear_output()\n",
    "    cart.append(item)\n",
    "\n",
    "# addItem('banana')\n",
    "# cart\n",
    "\n",
    "## Removing from cart\n",
    "\n",
    "def removeItem(item):\n",
    "    clear_output()\n",
    "    cart.remove(item)\n",
    "    clear_output()\n",
    "\n",
    "# show cart\n",
    "def showCart():\n",
    "    print('Here is your cart...')\n",
    "    for item in cart:\n",
    "        print(item)\n",
    "        \n",
    "# clear cart\n",
    "\n",
    "def clearCart():\n",
    "    print('Your cart is now empty...')\n",
    "    cart.clear()\n",
    "    \n",
    "# time to put it all together\n",
    "# Program utilizing pre-built functionality\n",
    "\n",
    "def shoppingCart():\n",
    "    while True:\n",
    "        response = input('What would you like to do? Add/Remove/Show/Clear your cart?')\n",
    "        if response.lower() == 'quit':\n",
    "            print('Thanks for shopping with us.')\n",
    "            showCart()\n",
    "            break\n",
    "        elif response.lower() == 'add':\n",
    "            item_add = input('What do you want to add?')\n",
    "            addItem(item_add)\n",
    "        elif response.lower() == 'remove':\n",
    "            clear_output()\n",
    "            showCart()\n",
    "            item_remove = input('What do you want to remove?')\n",
    "            removeItem(item_remove)\n",
    "            showCart()\n",
    "        elif response.lower() == 'show':\n",
    "            showCart()\n",
    "        elif response.lower() == 'clear':\n",
    "            clearCart()\n",
    "        else:\n",
    "            print('Sorry. That is not a valid response...')\n",
    "            \n",
    "shoppingCart()"
   ]
  },
  {
   "cell_type": "markdown",
   "metadata": {},
   "source": [
    "## Creating a Class (Initializing/Declaring)\n",
    "<p>When creating a class, function, or even a variable you are initializing that object. Initializing and Declaring occur at the same time in Python, whereas in lower level languages you have to declare an object before initializing it. This is the first step in the process of using a class.</p>"
   ]
  },
  {
   "cell_type": "code",
   "execution_count": null,
   "metadata": {},
   "outputs": [],
   "source": [
    "#class names are all upper case. Keep this in mind when creating other objects\n",
    "\n",
    "class Car(): # the class keyword creates a new class, either as class Car: or class Car():\n",
    "    wheels = 4\n",
    "    color = 'blue'"
   ]
  },
  {
   "cell_type": "markdown",
   "metadata": {},
   "source": [
    "## Using a Class (Instantiating)\n",
    "<p>The process of creating a class is called <i>Instantiating</i>. Each time you create a variable of that type of class, it is referred to as an <i>Instance</i> of that class. This is the second step in the process of using a class.</p>"
   ]
  },
  {
   "cell_type": "markdown",
   "metadata": {},
   "source": [
    "##### Creating One Instance"
   ]
  },
  {
   "cell_type": "code",
   "execution_count": null,
   "metadata": {},
   "outputs": [],
   "source": [
    "ford = Car()\n",
    "print(ford.wheels)\n",
    "print(ford.color)"
   ]
  },
  {
   "cell_type": "markdown",
   "metadata": {},
   "source": [
    "##### Creating Multiple Instances"
   ]
  },
  {
   "cell_type": "code",
   "execution_count": null,
   "metadata": {},
   "outputs": [],
   "source": [
    "chevy = Car()\n",
    "honda = Car()\n",
    "volkswagen = Car()\n",
    "\n",
    "print(chevy)\n",
    "print(volkswagen)\n"
   ]
  },
  {
   "cell_type": "markdown",
   "metadata": {},
   "source": [
    "##### In-Class Exercise #1 - Create a Class 'Car' and Instantiate three different makes of cars"
   ]
  },
  {
   "cell_type": "code",
   "execution_count": null,
   "metadata": {},
   "outputs": [],
   "source": [
    "class Car():\n",
    "    sunroof = True\n",
    "    color = 'teal'\n",
    "    doors = 5\n",
    "    wheels = 4\n",
    "    \n",
    "volkswagen = Car()\n",
    "jeep = Car()\n",
    "mazda = Car()\n",
    "subaru = Car()\n",
    "\n",
    "print(volkswagen.doors)\n",
    "print(jeep.sunroof)\n",
    "print(mazda.color)\n",
    "    "
   ]
  },
  {
   "cell_type": "markdown",
   "metadata": {},
   "source": [
    "## The \\__init\\__() Method <br>\n",
    "<p>This method is used in almost every created class, and called only once upon the creation of the class instance. This method will initialize all variables needed for the object.</p>"
   ]
  },
  {
   "cell_type": "code",
   "execution_count": null,
   "metadata": {},
   "outputs": [],
   "source": [
    "class Toy():\n",
    "    kind = 'Car'\n",
    "    \n",
    "    def __init__(self, rooftop, horn, wheels, speed):\n",
    "        self.rooftop = rooftop\n",
    "        self.horn = horn\n",
    "        self.wheels = wheels\n",
    "        self.speed = speed\n",
    "        \n",
    "hotwheel = Toy(0, 3, 6, 'fast')\n",
    "tonka = Toy(2, 1, 18, 'slow')\n",
    "\n",
    "hotwheel.speed"
   ]
  },
  {
   "cell_type": "markdown",
   "metadata": {},
   "source": [
    "##### The 'self' Attribute <br>\n",
    "<p>This attribute is required to keep track of specific instance's attributes. Without the self attribute, the program would not know how to reference or keep track of an instance's attributes.</p>"
   ]
  },
  {
   "cell_type": "code",
   "execution_count": null,
   "metadata": {},
   "outputs": [],
   "source": [
    "# see above"
   ]
  },
  {
   "cell_type": "markdown",
   "metadata": {},
   "source": [
    "## Class Attributes <br>\n",
    "<p>While variables are inside of a class, they are referred to as attributes and not variables. When someone says 'attribute' you know they're speaking about a class. Attributes can be initialized through the init method, or outside of it.</p>"
   ]
  },
  {
   "cell_type": "markdown",
   "metadata": {},
   "source": [
    "##### Initializing Attributes"
   ]
  },
  {
   "cell_type": "code",
   "execution_count": null,
   "metadata": {},
   "outputs": [],
   "source": [
    "# see above"
   ]
  },
  {
   "cell_type": "markdown",
   "metadata": {},
   "source": [
    "##### Accessing Class Attributes"
   ]
  },
  {
   "cell_type": "code",
   "execution_count": null,
   "metadata": {
    "scrolled": true
   },
   "outputs": [],
   "source": [
    "# See Above"
   ]
  },
  {
   "cell_type": "markdown",
   "metadata": {},
   "source": [
    "##### Setting Defaults for Attributes"
   ]
  },
  {
   "cell_type": "code",
   "execution_count": null,
   "metadata": {},
   "outputs": [],
   "source": [
    "class Human:\n",
    "    def __init__(self, eyes, height, activity, hair=\"Brown\"):\n",
    "        self.eyes = eyes\n",
    "        self.height = height\n",
    "        self.activity = activity\n",
    "        self.hair = hair\n",
    "        \n",
    "magnus = Human('blue', '3ft', True, 'red')\n",
    "julia = Human('brown', '4ft10in', False)\n",
    "\n",
    "julia.hair"
   ]
  },
  {
   "cell_type": "markdown",
   "metadata": {},
   "source": [
    "##### Changing Class Attributes <br>\n",
    "<p>Keep in mind there are global class attributes and then there are attributes only available to each class instance which won't effect other classes.</p>"
   ]
  },
  {
   "cell_type": "code",
   "execution_count": null,
   "metadata": {},
   "outputs": [],
   "source": [
    "#changing the attribute"
   ]
  },
  {
   "cell_type": "code",
   "execution_count": null,
   "metadata": {},
   "outputs": [],
   "source": [
    "print(f'Before attribute change: {julia.height}')\n",
    "print(f'Before attribute change: {julia.hair}')\n",
    "julia.hair = 'Purple'\n",
    "julia.height = '8ft'\n",
    "print(f'After change: {julia.height}')\n",
    "print(f'After change: {julia.hair}')"
   ]
  },
  {
   "cell_type": "markdown",
   "metadata": {},
   "source": [
    "##### In-Class Exercise #2 - Add a doors and seats attribute to your 'Car' class then print out two different instances with different doors and seats"
   ]
  },
  {
   "cell_type": "code",
   "execution_count": null,
   "metadata": {},
   "outputs": [],
   "source": [
    "# class Car():\n",
    "#     sunroof = True\n",
    "#     color = 'teal'\n",
    "#     doors = 5\n",
    "#     wheels = 4\n",
    "\n",
    "class Car():\n",
    "    def __init__(self, sunroof, hatch, doors = 4, seats = 5,  awd = True):\n",
    "        self.sunroof = sunroof\n",
    "        self.hatch = hatch\n",
    "        self.doors = doors\n",
    "        self.seats = seats\n",
    "        self.awd = awd\n",
    "        \n",
    "    def printAttributes(self):\n",
    "        print(f'This car has {self.doors} doors, {self.seats} seats, and {self.sunroof} sunroof.')\n",
    "        \n",
    "jeep = Car('no', False , 5, 4)\n",
    "volkswagen = Car('a', True, 5, 6, False)\n",
    "\n",
    "print(jeep.hatch)\n",
    "print(f'This car has {jeep.doors} doors and {jeep.seats} seats.')\n",
    "\n",
    "print(volkswagen.awd)\n",
    "print(f'This car has {volkswagen.seats} seats.')\n",
    "\n",
    "volkswagen.printAttributes()\n"
   ]
  },
  {
   "cell_type": "markdown",
   "metadata": {},
   "source": [
    "## Class Methods <br>\n",
    "<p>While inside of a class, functions are referred to as 'methods'. If you hear someone mention methods, they're speaking about classes. Methods are essentially functions, but only callable on the instances of a class.</p>"
   ]
  },
  {
   "cell_type": "markdown",
   "metadata": {},
   "source": [
    "##### Creating"
   ]
  },
  {
   "cell_type": "code",
   "execution_count": null,
   "metadata": {},
   "outputs": [],
   "source": [
    "class ShoppingBag:\n",
    "    \"\"\"\n",
    "        the ShoppingBag class will have handles, capacity, and items\n",
    "        to place inside.\n",
    "        \n",
    "        Attributes for class:\n",
    "        - handles: expected to be an integer\n",
    "        - capacity: number of items that can be carried in this bag, expected to be a string or integer\n",
    "        - items: expected to be a list\n",
    "    \"\"\"\n",
    "    def __init__(self, capacity, items, handles=2):\n",
    "        self.capacity = capacity\n",
    "        self.items = items\n",
    "        self.handles = handles\n",
    "        \n",
    "    #method to show all items in items list \n",
    "    def showShoppingBag(self):\n",
    "        print('Here are the items in your bag:')\n",
    "        for item in self.items:\n",
    "            print(item)\n",
    "\n",
    "    #Method to show capacity of bag\n",
    "    def showCapacity(self): #these methods(functions within the class) will always take in self\n",
    "        print(f'Your current bag capacity is {self.capacity}.') #make sure to reference self with these\n",
    "        \n",
    "    #Method to add items to bag\n",
    "    def addToBag(self):\n",
    "        product = input('What did you put in the bag?')\n",
    "        self.items.append(product)\n",
    "        print(f'Success! Here is our new bag: {self.items}')\n",
    "    \n",
    "    #Method to change capacity as items are added (dynamically)\n",
    "    def changeCapacity(self, new_capacity):\n",
    "        self.capacity = new_capacity\n",
    "        \n",
    "    \n",
    "    #Method to increase capacity\n",
    "    def increaseCapacity(self, changed_cap = 10):\n",
    "        if isinstance(self.capacity, str):\n",
    "            print('Sorry, I can\\'t do that...')\n",
    "        else:\n",
    "            self.capacity += changed_cap\n",
    "    \n",
    "HEB = ShoppingBag(25, [])\n",
    "HEB.showCapacity()\n",
    "HEB.increaseCapacity(50)\n",
    "HEB.showCapacity()\n"
   ]
  },
  {
   "cell_type": "markdown",
   "metadata": {},
   "source": [
    "##### Calling"
   ]
  },
  {
   "cell_type": "code",
   "execution_count": null,
   "metadata": {},
   "outputs": [],
   "source": [
    "# See Above\n",
    "from IPython.display import clear_output\n",
    "\n",
    "\n",
    "def run():\n",
    "    whole_foods = ShoppingBag(25, [])\n",
    "    while True:\n",
    "        response = input('What do you want to do? add/show/quit')\n",
    "        clear_output()\n",
    "        if response.lower() == 'quit':\n",
    "            whole_foods.showShoppingBag()\n",
    "            print('Thank you for shopping at Whole Foods.')\n",
    "            break\n",
    "        elif response.lower() == 'add':\n",
    "            whole_foods.addToBag()\n",
    "        elif response.lower() == 'show':\n",
    "            whole_foods.showShoppingBag()\n",
    "        else:\n",
    "            print('Not a valid input -- please retry.')\n",
    "            \n",
    "     "
   ]
  },
  {
   "cell_type": "markdown",
   "metadata": {},
   "source": [
    "##### Modifying an Attribute's Value Through a Method"
   ]
  },
  {
   "cell_type": "code",
   "execution_count": null,
   "metadata": {},
   "outputs": [],
   "source": [
    "#see above\n",
    "mcdonalds = ShoppingBag(100,[])\n",
    "mcdonalds.showCapacity()\n",
    "mcdonalds.changeCapacity(50)\n",
    "mcdonalds.showCapacity()"
   ]
  },
  {
   "cell_type": "markdown",
   "metadata": {},
   "source": [
    "##### Incrementing an Attribute's Value Through a Method"
   ]
  },
  {
   "cell_type": "code",
   "execution_count": null,
   "metadata": {},
   "outputs": [],
   "source": [
    "#see above\n",
    "mcdonalds.increaseCapacity()\n",
    "mcdonalds.showCapacity()"
   ]
  },
  {
   "cell_type": "markdown",
   "metadata": {},
   "source": [
    "##### In-Class Exercise #3 - Add a method that takes in three parameters of year, doors and seats and prints out a formatted print statement with make, model, year, seats, and doors"
   ]
  },
  {
   "cell_type": "code",
   "execution_count": null,
   "metadata": {},
   "outputs": [],
   "source": [
    "# Create class with 2 paramters inside of the __init__ which are make and model\n",
    "# Inside of the Car class create a method that has 4 parameter in total (self,year,door,seats)\n",
    "# Output: This car is from 2019 and is a Ford Expolorer and has 4 doors and 5 seats\n",
    "\n",
    "class ShowCar():\n",
    "    \n",
    "    def __init__(self, make, model):\n",
    "        self.make = make\n",
    "        self.model = model\n",
    "        \n",
    "    def bragAboutCar(self, year, doors, seats):\n",
    "        print(f'This car is from {year} and is a {self.make} {self.model} and has {doors} doors and {seats} seats.')\n",
    "\n",
    "# fiat = ShowCar('Fiat', '500')\n",
    "# fiat.bragAboutCar(1970, 2, 4)\n",
    "\n",
    "help(ShowCar)"
   ]
  },
  {
   "cell_type": "markdown",
   "metadata": {},
   "source": [
    "## Inheritance <br>\n",
    "<p>You can create a child-parent relationship between two classes by using inheritance. What this allows you to do is have overriding methods, but also inherit traits from the parent class. Think of it as an actual parent and child, the child will inherit the parent's genes, as will the classes in OOP</p>"
   ]
  },
  {
   "cell_type": "markdown",
   "metadata": {},
   "source": [
    "##### Syntax for Inheriting from a Parent Class"
   ]
  },
  {
   "cell_type": "code",
   "execution_count": null,
   "metadata": {},
   "outputs": [],
   "source": [
    "#Creation of parent class \"muppet\"\n",
    "\n",
    "class Muppet:\n",
    "    def __init__(self, species, color, eyes = 'googly', material = 'polyester'):\n",
    "        self.species = species\n",
    "        self.color = color\n",
    "        self.eyes = eyes\n",
    "        self.material = material\n",
    "        \n",
    "    #Generic Parent method, no override yet    \n",
    "    def makeNoise(self):\n",
    "        print('Talk like a muppet.')\n",
    "\n",
    "#child class        \n",
    "class Animal(Muppet):\n",
    "    speed = 'caffeinated'\n",
    "    \n",
    "    def printInfo(self):\n",
    "        print(f'This Muppet is {self.speed} and is made of {self.material}.')\n",
    "        \n",
    "    def makeNoise(self):\n",
    "        noise = 'AAAAAAAAHHHHHHHH'\n",
    "        print(noise)\n",
    "        \n",
    "#grandchild class <-- this is a confusing mess\n",
    "class Mutt(Animal):\n",
    "    def __init__(self, species, color, eye_color, eyes, material):\n",
    "        Animal.__init__(self, species, color, eyes, material)\n",
    "        self.eye_color = eye_color\n",
    "\n",
    "Magnus = Animal('wild', 'orange')\n",
    "\n",
    "Hank = Mutt('Muppet', 'green', 'blue', 'googly', 'cotton')\n",
    "Hank.speed"
   ]
  },
  {
   "cell_type": "markdown",
   "metadata": {},
   "source": [
    "##### The \\__init\\__() Method for a Child Class - super()"
   ]
  },
  {
   "cell_type": "code",
   "execution_count": null,
   "metadata": {
    "scrolled": true
   },
   "outputs": [],
   "source": [
    "#'super class' is the topmost 'parent' level\n",
    "\n",
    "class Kermit(Animal):\n",
    "    def __init__(self, species, color, eye_color, eyes, material):\n",
    "        super().__init__(species, color, eyes, material)\n",
    "        \n",
    "Frog = Kermit('frog', 'green', 'black', 'fixed', 'cotton')\n",
    "Frog.species()"
   ]
  },
  {
   "cell_type": "markdown",
   "metadata": {},
   "source": [
    "##### Defining Attributes and Methods for the Child Class"
   ]
  },
  {
   "cell_type": "code",
   "execution_count": null,
   "metadata": {},
   "outputs": [],
   "source": [
    "# See Above"
   ]
  },
  {
   "cell_type": "markdown",
   "metadata": {},
   "source": [
    "##### Method Overriding"
   ]
  },
  {
   "cell_type": "code",
   "execution_count": null,
   "metadata": {},
   "outputs": [],
   "source": [
    "# See Above"
   ]
  },
  {
   "cell_type": "markdown",
   "metadata": {},
   "source": [
    "## Classes as Attributes <br>\n",
    "<p>Classes can also be used as attributes within another class. This is useful in situations where you need to keep variables locally stored, instead of globally stored.</p>"
   ]
  },
  {
   "cell_type": "code",
   "execution_count": null,
   "metadata": {},
   "outputs": [],
   "source": [
    "class Battery:\n",
    "    volts = 7.8\n",
    "    \n",
    "    def __init__(self, cells):\n",
    "        self.cells = cells\n",
    "\n",
    "class Car:\n",
    "    def __init__(self, make, battery):\n",
    "        self.make = make\n",
    "        self.battery = battery\n",
    "        \n",
    "batt = Battery(16)\n",
    "\n",
    "tesla = Car('tesla', batt)\n",
    "tesla.battery.__dict__"
   ]
  },
  {
   "cell_type": "markdown",
   "metadata": {},
   "source": [
    "# Exercises"
   ]
  },
  {
   "cell_type": "markdown",
   "metadata": {},
   "source": [
    "### Exercise 1 - Turn the shopping cart program from yesterday into an object-oriented program\n",
    "\n",
    "The comments in the cell below are there as a guide for thinking about the problem. However, if you feel a different way is best for you and your own thought process, please do what feels best for you by all means."
   ]
  },
  {
   "cell_type": "code",
   "execution_count": null,
   "metadata": {},
   "outputs": [
    {
     "name": "stdout",
     "output_type": "stream",
     "text": [
      "What you're holding...\n",
      "shoes\n"
     ]
    }
   ],
   "source": [
    "# Create a class called cart that retains items and has methods to add, remove, and show\n",
    "\n",
    "class Cart():\n",
    "    # init\n",
    "    def __init__(self, capacity, material, items=[]):\n",
    "        self.capacity = capacity #how many items the cart can hold, should be an integer\n",
    "        self.material = material\n",
    "        self.items = items #should be instantiated as an empty list []\n",
    "    \n",
    "#show cart\n",
    "    def showCart(self):\n",
    "        print(\"What you're holding...\")\n",
    "        for item in self.items:\n",
    "            print(item)\n",
    "            \n",
    "# menards = Cart(20, 'metal') #no need to specify items since it's already an empty list\n",
    "# menards.showCart()\n",
    "\n",
    "## add to cart\n",
    "    def addToCart(self):\n",
    "        addition = input('What are you putting in the cart now?')\n",
    "        self.items.append(addition)\n",
    "        print(f'Nice. Added {addition} to your bag.')\n",
    "        \n",
    "## remove item\n",
    "    def removeItem(self):\n",
    "        removal = input(\"What don't you want anymore?\")\n",
    "        self.items.remove(removal)\n",
    "#         print(f'Whatever. Here\\'s what\\'s still in here: {self.items}')\n",
    "\n",
    "\n",
    "\n",
    "\n",
    "def shopping():\n",
    "    from IPython.display import clear_output\n",
    "    menards = Cart(20, 'metal')\n",
    "    while True:\n",
    "        response = input('Good lookin cart. What do you want to do? add/show/remove/quit...')\n",
    "        if response.lower() == 'add':\n",
    "            clear_output()\n",
    "            menards.addToCart()\n",
    "        elif response.lower() == 'show':\n",
    "            clear_output()\n",
    "            menards.showCart()\n",
    "        elif response.lower() == 'remove':\n",
    "            clear_output()\n",
    "            menards.showCart()\n",
    "            try:       \n",
    "                menards.removeItem()\n",
    "                clear_output()\n",
    "                menards.showCart()\n",
    "            except ValueError:\n",
    "                print('That\\'s not the droid you\\'re looking for. Try again.')\n",
    "        elif response.lower() == 'quit':\n",
    "            clear_output()\n",
    "            print(\"Thanks for saving big money.\")\n",
    "            print(menards.items)\n",
    "        else:\n",
    "            clear_output()\n",
    "            print('Sorry, that is not a valid response.')\n",
    "            \n",
    "shopping()\n",
    "        "
   ]
  },
  {
   "cell_type": "markdown",
   "metadata": {},
   "source": [
    "### Exercise 2 - Write a Python class which has two methods get_String and print_String. get_String accept a string from the user and print_String print the string in upper case"
   ]
  },
  {
   "cell_type": "code",
   "execution_count": null,
   "metadata": {},
   "outputs": [],
   "source": [
    "class String():\n",
    "    \n",
    "    def __init__(self, message):\n",
    "        self.message = message\n",
    "    \n",
    "    def get_String(self):\n",
    "        if isinstance(self.message, str):\n",
    "            print('Thank you for the kind words.')\n",
    "        else:\n",
    "            print('Please enter a message to pass on.')\n",
    "        \n",
    "    def print_String(self):\n",
    "        if isinstance(self.message, str):\n",
    "            print(self.message.upper())\n",
    "        else:\n",
    "            print('Please enter a message to pass on.')\n",
    "            \n",
    "            \n",
    "# line = String(\"It's nice to see you today.\")\n",
    "# line.get_String()\n",
    "# line.print_String()\n",
    "\n",
    "class Trivia:\n",
    "    def __init__(self, an_answer = \"\"):\n",
    "        self.an_answer = an_answer\n",
    "    \n",
    "    def get_String(self):\n",
    "        self.an_answer = input(\"Who has two thumbs and looks good in overalls?\")\n",
    "        \n",
    "    def print_String(self):\n",
    "        print(self.an_answer.upper())\n",
    "        \n",
    "example = Trivia()\n",
    "example.get_String()\n",
    "example.print_String()"
   ]
  },
  {
   "cell_type": "code",
   "execution_count": null,
   "metadata": {},
   "outputs": [],
   "source": []
  }
 ],
 "metadata": {
  "kernelspec": {
   "display_name": "Python 3",
   "language": "python",
   "name": "python3"
  },
  "language_info": {
   "codemirror_mode": {
    "name": "ipython",
    "version": 3
   },
   "file_extension": ".py",
   "mimetype": "text/x-python",
   "name": "python",
   "nbconvert_exporter": "python",
   "pygments_lexer": "ipython3",
   "version": "3.8.8"
  }
 },
 "nbformat": 4,
 "nbformat_minor": 2
}
